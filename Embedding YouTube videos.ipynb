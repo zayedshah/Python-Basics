{
 "cells": [
  {
   "cell_type": "markdown",
   "metadata": {},
   "source": [
    "# How to embed YouTube vidoes\n",
    "\n",
    "Let's put in an Iron Maiden video.\n",
    "\n",
    "From YouTube, the link is as below.\n",
    "\n",
    "https://www.youtube.com/watch?v=Kvqr366Op3k\n",
    "\n",
    "Change it as  below.\n",
    "\n",
    "https://www.youtube.com/embed/Kvqr366Op3k\n",
    "\n",
    "And put in the HTML magic."
   ]
  },
  {
   "cell_type": "code",
   "execution_count": 4,
   "metadata": {},
   "outputs": [
    {
     "data": {
      "text/html": [
       "<iframe width=\"600\" height=\"300\" src=\"https://www.youtube.com/embed/Kvqr366Op3k\" frameborder=\"0\" allowfullscreen></iframe>"
      ],
      "text/plain": [
       "<IPython.core.display.HTML object>"
      ]
     },
     "metadata": {},
     "output_type": "display_data"
    }
   ],
   "source": [
    "%%HTML\n",
    "<iframe width=\"600\" height=\"300\" src=\"https://www.youtube.com/embed/Kvqr366Op3k\" frameborder=\"0\" allowfullscreen></iframe>"
   ]
  }
 ],
 "metadata": {
  "kernelspec": {
   "display_name": "Python 3",
   "language": "python",
   "name": "python3"
  },
  "language_info": {
   "codemirror_mode": {
    "name": "ipython",
    "version": 3
   },
   "file_extension": ".py",
   "mimetype": "text/x-python",
   "name": "python",
   "nbconvert_exporter": "python",
   "pygments_lexer": "ipython3",
   "version": "3.6.1"
  }
 },
 "nbformat": 4,
 "nbformat_minor": 2
}
